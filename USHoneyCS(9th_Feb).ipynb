{
 "cells": [
  {
   "cell_type": "markdown",
   "metadata": {
    "id": "mu1W1c0EjTMp"
   },
   "source": [
    "US Honey Case Study,\n",
    "\n",
    "**PREFACE**\n",
    "\n",
    "In 2006, global concern was raised over the rapid decline in the honeybee population, an integral component of American honey agriculture. Large numbers of hives were lost to Colony Collapse Disorder, a phenomenon of disappearing worker bees causing the remaining hive colony to collapse. Speculation to the cause of this disorder points to hive diseases and pesticides harming the pollinators, though no overall consensus has been reached. The U.S. used to locally produce over half the honey it consumes per year. Now, honey mostly comes from overseas, with 350 of the 400 million pounds of honey consumed every year originating from imports. This dataset provides insight into honey production supply and demand in America from 1998 to 2021."
   ]
  },
  {
   "cell_type": "markdown",
   "metadata": {
    "id": "BiPPmZmoj7AR"
   },
   "source": [
    "**OBJECTIVE**\n",
    "\n",
    "Visualize how the honey production is changed over the years (1995 - 2021) in US"
   ]
  },
  {
   "cell_type": "code",
   "execution_count": 6,
   "metadata": {
    "id": "TQzWh7GFjWYk"
   },
   "outputs": [],
   "source": [
    "#importing the libraries\n",
    "\n",
    "import pandas as pd\n",
    "import numpy as np\n",
    "import matplotlib.pyplot as plt\n",
    "import seaborn as sns"
   ]
  },
  {
   "cell_type": "code",
   "execution_count": 7,
   "metadata": {
    "id": "t1e0JNiIkYGe"
   },
   "outputs": [],
   "source": [
    "#load dataset\n",
    "\n",
    "df= pd.read_csv('US_honey_dataset.csv')"
   ]
  },
  {
   "cell_type": "code",
   "execution_count": 8,
   "metadata": {
    "colab": {
     "base_uri": "https://localhost:8080/",
     "height": 400
    },
    "id": "wkYt5BhskmyA",
    "outputId": "ff672b13-a838-430e-d6e3-18778ca22097"
   },
   "outputs": [
    {
     "data": {
      "text/html": [
       "<div>\n",
       "<style scoped>\n",
       "    .dataframe tbody tr th:only-of-type {\n",
       "        vertical-align: middle;\n",
       "    }\n",
       "\n",
       "    .dataframe tbody tr th {\n",
       "        vertical-align: top;\n",
       "    }\n",
       "\n",
       "    .dataframe thead th {\n",
       "        text-align: right;\n",
       "    }\n",
       "</style>\n",
       "<table border=\"1\" class=\"dataframe\">\n",
       "  <thead>\n",
       "    <tr style=\"text-align: right;\">\n",
       "      <th></th>\n",
       "      <th>Unnamed: 0</th>\n",
       "      <th>state</th>\n",
       "      <th>colonies_number</th>\n",
       "      <th>yield_per_colony</th>\n",
       "      <th>production</th>\n",
       "      <th>stocks</th>\n",
       "      <th>average_price</th>\n",
       "      <th>value_of_production</th>\n",
       "      <th>year</th>\n",
       "    </tr>\n",
       "  </thead>\n",
       "  <tbody>\n",
       "    <tr>\n",
       "      <th>0</th>\n",
       "      <td>0</td>\n",
       "      <td>Alabama</td>\n",
       "      <td>16000</td>\n",
       "      <td>58</td>\n",
       "      <td>928000</td>\n",
       "      <td>28000</td>\n",
       "      <td>62.0</td>\n",
       "      <td>575000</td>\n",
       "      <td>1995</td>\n",
       "    </tr>\n",
       "    <tr>\n",
       "      <th>1</th>\n",
       "      <td>1</td>\n",
       "      <td>Arizona</td>\n",
       "      <td>52000</td>\n",
       "      <td>79</td>\n",
       "      <td>4108000</td>\n",
       "      <td>986000</td>\n",
       "      <td>68.0</td>\n",
       "      <td>2793000</td>\n",
       "      <td>1995</td>\n",
       "    </tr>\n",
       "    <tr>\n",
       "      <th>2</th>\n",
       "      <td>2</td>\n",
       "      <td>Arkansas</td>\n",
       "      <td>50000</td>\n",
       "      <td>60</td>\n",
       "      <td>3000000</td>\n",
       "      <td>900000</td>\n",
       "      <td>64.0</td>\n",
       "      <td>1920000</td>\n",
       "      <td>1995</td>\n",
       "    </tr>\n",
       "    <tr>\n",
       "      <th>3</th>\n",
       "      <td>3</td>\n",
       "      <td>California</td>\n",
       "      <td>420000</td>\n",
       "      <td>93</td>\n",
       "      <td>39060000</td>\n",
       "      <td>4687000</td>\n",
       "      <td>60.0</td>\n",
       "      <td>23436000</td>\n",
       "      <td>1995</td>\n",
       "    </tr>\n",
       "    <tr>\n",
       "      <th>4</th>\n",
       "      <td>4</td>\n",
       "      <td>Colorado</td>\n",
       "      <td>45000</td>\n",
       "      <td>60</td>\n",
       "      <td>2700000</td>\n",
       "      <td>1404000</td>\n",
       "      <td>68.0</td>\n",
       "      <td>1836000</td>\n",
       "      <td>1995</td>\n",
       "    </tr>\n",
       "    <tr>\n",
       "      <th>5</th>\n",
       "      <td>5</td>\n",
       "      <td>Florida</td>\n",
       "      <td>230000</td>\n",
       "      <td>86</td>\n",
       "      <td>19780000</td>\n",
       "      <td>1780000</td>\n",
       "      <td>63.0</td>\n",
       "      <td>12461000</td>\n",
       "      <td>1995</td>\n",
       "    </tr>\n",
       "    <tr>\n",
       "      <th>6</th>\n",
       "      <td>6</td>\n",
       "      <td>Georgia</td>\n",
       "      <td>70000</td>\n",
       "      <td>62</td>\n",
       "      <td>4340000</td>\n",
       "      <td>260000</td>\n",
       "      <td>69.0</td>\n",
       "      <td>2995000</td>\n",
       "      <td>1995</td>\n",
       "    </tr>\n",
       "    <tr>\n",
       "      <th>7</th>\n",
       "      <td>7</td>\n",
       "      <td>Hawaii</td>\n",
       "      <td>8000</td>\n",
       "      <td>129</td>\n",
       "      <td>1032000</td>\n",
       "      <td>103000</td>\n",
       "      <td>55.0</td>\n",
       "      <td>568000</td>\n",
       "      <td>1995</td>\n",
       "    </tr>\n",
       "    <tr>\n",
       "      <th>8</th>\n",
       "      <td>8</td>\n",
       "      <td>Idaho</td>\n",
       "      <td>125000</td>\n",
       "      <td>48</td>\n",
       "      <td>6000000</td>\n",
       "      <td>1020000</td>\n",
       "      <td>65.0</td>\n",
       "      <td>3900000</td>\n",
       "      <td>1995</td>\n",
       "    </tr>\n",
       "    <tr>\n",
       "      <th>9</th>\n",
       "      <td>9</td>\n",
       "      <td>Illinois</td>\n",
       "      <td>11000</td>\n",
       "      <td>74</td>\n",
       "      <td>814000</td>\n",
       "      <td>212000</td>\n",
       "      <td>102.0</td>\n",
       "      <td>830000</td>\n",
       "      <td>1995</td>\n",
       "    </tr>\n",
       "  </tbody>\n",
       "</table>\n",
       "</div>"
      ],
      "text/plain": [
       "   Unnamed: 0       state  colonies_number  yield_per_colony  production  \\\n",
       "0           0     Alabama            16000                58      928000   \n",
       "1           1     Arizona            52000                79     4108000   \n",
       "2           2    Arkansas            50000                60     3000000   \n",
       "3           3  California           420000                93    39060000   \n",
       "4           4    Colorado            45000                60     2700000   \n",
       "5           5     Florida           230000                86    19780000   \n",
       "6           6     Georgia            70000                62     4340000   \n",
       "7           7      Hawaii             8000               129     1032000   \n",
       "8           8       Idaho           125000                48     6000000   \n",
       "9           9    Illinois            11000                74      814000   \n",
       "\n",
       "    stocks  average_price  value_of_production  year  \n",
       "0    28000           62.0               575000  1995  \n",
       "1   986000           68.0              2793000  1995  \n",
       "2   900000           64.0              1920000  1995  \n",
       "3  4687000           60.0             23436000  1995  \n",
       "4  1404000           68.0              1836000  1995  \n",
       "5  1780000           63.0             12461000  1995  \n",
       "6   260000           69.0              2995000  1995  \n",
       "7   103000           55.0               568000  1995  \n",
       "8  1020000           65.0              3900000  1995  \n",
       "9   212000          102.0               830000  1995  "
      ]
     },
     "execution_count": 8,
     "metadata": {},
     "output_type": "execute_result"
    }
   ],
   "source": [
    "#looking into data\n",
    "\n",
    "df.head(10)"
   ]
  },
  {
   "cell_type": "code",
   "execution_count": 9,
   "metadata": {
    "colab": {
     "base_uri": "https://localhost:8080/"
    },
    "id": "FkbDx4WikoBU",
    "outputId": "e9357808-c16e-4aa3-df8f-0a37dc75d5e8"
   },
   "outputs": [
    {
     "name": "stdout",
     "output_type": "stream",
     "text": [
      "<class 'pandas.core.frame.DataFrame'>\n",
      "RangeIndex: 1115 entries, 0 to 1114\n",
      "Data columns (total 9 columns):\n",
      " #   Column               Non-Null Count  Dtype  \n",
      "---  ------               --------------  -----  \n",
      " 0   Unnamed: 0           1115 non-null   int64  \n",
      " 1   state                1115 non-null   object \n",
      " 2   colonies_number      1115 non-null   int64  \n",
      " 3   yield_per_colony     1115 non-null   int64  \n",
      " 4   production           1115 non-null   int64  \n",
      " 5   stocks               1115 non-null   int64  \n",
      " 6   average_price        1115 non-null   float64\n",
      " 7   value_of_production  1115 non-null   int64  \n",
      " 8   year                 1115 non-null   int64  \n",
      "dtypes: float64(1), int64(7), object(1)\n",
      "memory usage: 78.5+ KB\n"
     ]
    }
   ],
   "source": [
    "#some more info of dataset\n",
    "\n",
    "df.info()"
   ]
  },
  {
   "cell_type": "code",
   "execution_count": 10,
   "metadata": {
    "colab": {
     "base_uri": "https://localhost:8080/",
     "height": 337
    },
    "id": "DTQ7NCTBkqhF",
    "outputId": "85ea7600-a715-46c1-f644-0cc1c6461f14"
   },
   "outputs": [
    {
     "data": {
      "text/html": [
       "<div>\n",
       "<style scoped>\n",
       "    .dataframe tbody tr th:only-of-type {\n",
       "        vertical-align: middle;\n",
       "    }\n",
       "\n",
       "    .dataframe tbody tr th {\n",
       "        vertical-align: top;\n",
       "    }\n",
       "\n",
       "    .dataframe thead th {\n",
       "        text-align: right;\n",
       "    }\n",
       "</style>\n",
       "<table border=\"1\" class=\"dataframe\">\n",
       "  <thead>\n",
       "    <tr style=\"text-align: right;\">\n",
       "      <th></th>\n",
       "      <th>Unnamed: 0</th>\n",
       "      <th>colonies_number</th>\n",
       "      <th>yield_per_colony</th>\n",
       "      <th>production</th>\n",
       "      <th>stocks</th>\n",
       "      <th>average_price</th>\n",
       "      <th>value_of_production</th>\n",
       "      <th>year</th>\n",
       "    </tr>\n",
       "  </thead>\n",
       "  <tbody>\n",
       "    <tr>\n",
       "      <th>count</th>\n",
       "      <td>1115.00000</td>\n",
       "      <td>1115.000000</td>\n",
       "      <td>1115.000000</td>\n",
       "      <td>1.115000e+03</td>\n",
       "      <td>1.115000e+03</td>\n",
       "      <td>1115.000000</td>\n",
       "      <td>1.115000e+03</td>\n",
       "      <td>1115.000000</td>\n",
       "    </tr>\n",
       "    <tr>\n",
       "      <th>mean</th>\n",
       "      <td>557.00000</td>\n",
       "      <td>62438.565022</td>\n",
       "      <td>59.743498</td>\n",
       "      <td>2.851268e+06</td>\n",
       "      <td>1.172625e+06</td>\n",
       "      <td>140.623076</td>\n",
       "      <td>5.667412e+06</td>\n",
       "      <td>2007.740807</td>\n",
       "    </tr>\n",
       "    <tr>\n",
       "      <th>std</th>\n",
       "      <td>322.01708</td>\n",
       "      <td>92648.175955</td>\n",
       "      <td>19.940500</td>\n",
       "      <td>5.561202e+06</td>\n",
       "      <td>2.049556e+06</td>\n",
       "      <td>107.011544</td>\n",
       "      <td>9.459460e+06</td>\n",
       "      <td>7.823002</td>\n",
       "    </tr>\n",
       "    <tr>\n",
       "      <th>min</th>\n",
       "      <td>0.00000</td>\n",
       "      <td>2000.000000</td>\n",
       "      <td>19.000000</td>\n",
       "      <td>1.200000e+04</td>\n",
       "      <td>9.000000e+03</td>\n",
       "      <td>1.300000</td>\n",
       "      <td>1.060000e+05</td>\n",
       "      <td>1995.000000</td>\n",
       "    </tr>\n",
       "    <tr>\n",
       "      <th>25%</th>\n",
       "      <td>278.50000</td>\n",
       "      <td>9000.000000</td>\n",
       "      <td>45.000000</td>\n",
       "      <td>2.460000e+05</td>\n",
       "      <td>1.125000e+05</td>\n",
       "      <td>70.000000</td>\n",
       "      <td>1.008000e+06</td>\n",
       "      <td>2001.000000</td>\n",
       "    </tr>\n",
       "    <tr>\n",
       "      <th>50%</th>\n",
       "      <td>557.00000</td>\n",
       "      <td>26000.000000</td>\n",
       "      <td>57.000000</td>\n",
       "      <td>8.280000e+05</td>\n",
       "      <td>3.700000e+05</td>\n",
       "      <td>128.000000</td>\n",
       "      <td>2.281000e+06</td>\n",
       "      <td>2008.000000</td>\n",
       "    </tr>\n",
       "    <tr>\n",
       "      <th>75%</th>\n",
       "      <td>835.50000</td>\n",
       "      <td>69000.000000</td>\n",
       "      <td>71.000000</td>\n",
       "      <td>2.700000e+06</td>\n",
       "      <td>1.253500e+06</td>\n",
       "      <td>193.000000</td>\n",
       "      <td>5.704000e+06</td>\n",
       "      <td>2015.000000</td>\n",
       "    </tr>\n",
       "    <tr>\n",
       "      <th>max</th>\n",
       "      <td>1114.00000</td>\n",
       "      <td>550000.000000</td>\n",
       "      <td>155.000000</td>\n",
       "      <td>3.906000e+07</td>\n",
       "      <td>1.354500e+07</td>\n",
       "      <td>874.000000</td>\n",
       "      <td>8.385900e+07</td>\n",
       "      <td>2021.000000</td>\n",
       "    </tr>\n",
       "  </tbody>\n",
       "</table>\n",
       "</div>"
      ],
      "text/plain": [
       "       Unnamed: 0  colonies_number  yield_per_colony    production  \\\n",
       "count  1115.00000      1115.000000       1115.000000  1.115000e+03   \n",
       "mean    557.00000     62438.565022         59.743498  2.851268e+06   \n",
       "std     322.01708     92648.175955         19.940500  5.561202e+06   \n",
       "min       0.00000      2000.000000         19.000000  1.200000e+04   \n",
       "25%     278.50000      9000.000000         45.000000  2.460000e+05   \n",
       "50%     557.00000     26000.000000         57.000000  8.280000e+05   \n",
       "75%     835.50000     69000.000000         71.000000  2.700000e+06   \n",
       "max    1114.00000    550000.000000        155.000000  3.906000e+07   \n",
       "\n",
       "             stocks  average_price  value_of_production         year  \n",
       "count  1.115000e+03    1115.000000         1.115000e+03  1115.000000  \n",
       "mean   1.172625e+06     140.623076         5.667412e+06  2007.740807  \n",
       "std    2.049556e+06     107.011544         9.459460e+06     7.823002  \n",
       "min    9.000000e+03       1.300000         1.060000e+05  1995.000000  \n",
       "25%    1.125000e+05      70.000000         1.008000e+06  2001.000000  \n",
       "50%    3.700000e+05     128.000000         2.281000e+06  2008.000000  \n",
       "75%    1.253500e+06     193.000000         5.704000e+06  2015.000000  \n",
       "max    1.354500e+07     874.000000         8.385900e+07  2021.000000  "
      ]
     },
     "execution_count": 10,
     "metadata": {},
     "output_type": "execute_result"
    }
   ],
   "source": [
    "#some statistical analysis of numerical columns of dataset\n",
    "\n",
    "df.describe()"
   ]
  },
  {
   "cell_type": "code",
   "execution_count": 11,
   "metadata": {
    "colab": {
     "base_uri": "https://localhost:8080/"
    },
    "id": "jRe3yGq5lPry",
    "outputId": "88f34766-03df-4dd0-e8da-9e359ca0d70d"
   },
   "outputs": [
    {
     "data": {
      "text/plain": [
       "(1115, 9)"
      ]
     },
     "execution_count": 11,
     "metadata": {},
     "output_type": "execute_result"
    }
   ],
   "source": [
    "#how much data my dataset holding\n",
    "\n",
    "df.shape"
   ]
  },
  {
   "cell_type": "markdown",
   "metadata": {
    "id": "gYE9mCLYnOxr"
   },
   "source": [
    "**Cleaning the dataset**"
   ]
  },
  {
   "cell_type": "code",
   "execution_count": 12,
   "metadata": {
    "colab": {
     "base_uri": "https://localhost:8080/"
    },
    "id": "7b0pwRaGlvBP",
    "outputId": "f7c204b0-7971-4f03-aa3a-e64269521181"
   },
   "outputs": [
    {
     "data": {
      "text/plain": [
       "Unnamed: 0             0\n",
       "state                  0\n",
       "colonies_number        0\n",
       "yield_per_colony       0\n",
       "production             0\n",
       "stocks                 0\n",
       "average_price          0\n",
       "value_of_production    0\n",
       "year                   0\n",
       "dtype: int64"
      ]
     },
     "execution_count": 12,
     "metadata": {},
     "output_type": "execute_result"
    }
   ],
   "source": [
    "#cheking for null values:\n",
    "\n",
    "df.isna().sum()"
   ]
  },
  {
   "cell_type": "code",
   "execution_count": 13,
   "metadata": {
    "colab": {
     "base_uri": "https://localhost:8080/"
    },
    "id": "LbJ-a2pNnasL",
    "outputId": "283da67a-4bac-4075-add0-2404faa9822e"
   },
   "outputs": [
    {
     "data": {
      "text/plain": [
       "Index(['Unnamed: 0', 'state', 'colonies_number', 'yield_per_colony',\n",
       "       'production', 'stocks', 'average_price', 'value_of_production', 'year'],\n",
       "      dtype='object')"
      ]
     },
     "execution_count": 13,
     "metadata": {},
     "output_type": "execute_result"
    }
   ],
   "source": [
    "#names of all columns in our dataset\n",
    "\n",
    "df.columns"
   ]
  },
  {
   "cell_type": "code",
   "execution_count": 14,
   "metadata": {
    "id": "geKuMp82nfxT"
   },
   "outputs": [],
   "source": [
    "#dropping unnecessary columns\n",
    "\n",
    "df.drop(columns=['Unnamed: 0'],inplace=True)"
   ]
  },
  {
   "cell_type": "code",
   "execution_count": 15,
   "metadata": {
    "colab": {
     "base_uri": "https://localhost:8080/",
     "height": 206
    },
    "id": "PpKBWMXSoRVJ",
    "outputId": "dbb944a3-e5b7-4b2c-ac81-6c4d419451f4"
   },
   "outputs": [
    {
     "data": {
      "text/html": [
       "<div>\n",
       "<style scoped>\n",
       "    .dataframe tbody tr th:only-of-type {\n",
       "        vertical-align: middle;\n",
       "    }\n",
       "\n",
       "    .dataframe tbody tr th {\n",
       "        vertical-align: top;\n",
       "    }\n",
       "\n",
       "    .dataframe thead th {\n",
       "        text-align: right;\n",
       "    }\n",
       "</style>\n",
       "<table border=\"1\" class=\"dataframe\">\n",
       "  <thead>\n",
       "    <tr style=\"text-align: right;\">\n",
       "      <th></th>\n",
       "      <th>state</th>\n",
       "      <th>colonies_number</th>\n",
       "      <th>yield_per_colony</th>\n",
       "      <th>production</th>\n",
       "      <th>stocks</th>\n",
       "      <th>average_price</th>\n",
       "      <th>value_of_production</th>\n",
       "      <th>year</th>\n",
       "    </tr>\n",
       "  </thead>\n",
       "  <tbody>\n",
       "    <tr>\n",
       "      <th>0</th>\n",
       "      <td>Alabama</td>\n",
       "      <td>16000</td>\n",
       "      <td>58</td>\n",
       "      <td>928000</td>\n",
       "      <td>28000</td>\n",
       "      <td>62.0</td>\n",
       "      <td>575000</td>\n",
       "      <td>1995</td>\n",
       "    </tr>\n",
       "    <tr>\n",
       "      <th>1</th>\n",
       "      <td>Arizona</td>\n",
       "      <td>52000</td>\n",
       "      <td>79</td>\n",
       "      <td>4108000</td>\n",
       "      <td>986000</td>\n",
       "      <td>68.0</td>\n",
       "      <td>2793000</td>\n",
       "      <td>1995</td>\n",
       "    </tr>\n",
       "    <tr>\n",
       "      <th>2</th>\n",
       "      <td>Arkansas</td>\n",
       "      <td>50000</td>\n",
       "      <td>60</td>\n",
       "      <td>3000000</td>\n",
       "      <td>900000</td>\n",
       "      <td>64.0</td>\n",
       "      <td>1920000</td>\n",
       "      <td>1995</td>\n",
       "    </tr>\n",
       "    <tr>\n",
       "      <th>3</th>\n",
       "      <td>California</td>\n",
       "      <td>420000</td>\n",
       "      <td>93</td>\n",
       "      <td>39060000</td>\n",
       "      <td>4687000</td>\n",
       "      <td>60.0</td>\n",
       "      <td>23436000</td>\n",
       "      <td>1995</td>\n",
       "    </tr>\n",
       "    <tr>\n",
       "      <th>4</th>\n",
       "      <td>Colorado</td>\n",
       "      <td>45000</td>\n",
       "      <td>60</td>\n",
       "      <td>2700000</td>\n",
       "      <td>1404000</td>\n",
       "      <td>68.0</td>\n",
       "      <td>1836000</td>\n",
       "      <td>1995</td>\n",
       "    </tr>\n",
       "  </tbody>\n",
       "</table>\n",
       "</div>"
      ],
      "text/plain": [
       "        state  colonies_number  yield_per_colony  production   stocks  \\\n",
       "0     Alabama            16000                58      928000    28000   \n",
       "1     Arizona            52000                79     4108000   986000   \n",
       "2    Arkansas            50000                60     3000000   900000   \n",
       "3  California           420000                93    39060000  4687000   \n",
       "4    Colorado            45000                60     2700000  1404000   \n",
       "\n",
       "   average_price  value_of_production  year  \n",
       "0           62.0               575000  1995  \n",
       "1           68.0              2793000  1995  \n",
       "2           64.0              1920000  1995  \n",
       "3           60.0             23436000  1995  \n",
       "4           68.0              1836000  1995  "
      ]
     },
     "execution_count": 15,
     "metadata": {},
     "output_type": "execute_result"
    }
   ],
   "source": [
    "#overview\n",
    "df.head()"
   ]
  },
  {
   "cell_type": "code",
   "execution_count": 16,
   "metadata": {
    "colab": {
     "base_uri": "https://localhost:8080/"
    },
    "id": "VNn04AXnoT0w",
    "outputId": "c146c93e-862d-4f46-99c5-16adb45edc65"
   },
   "outputs": [
    {
     "data": {
      "text/plain": [
       "(1115, 8)"
      ]
     },
     "execution_count": 16,
     "metadata": {},
     "output_type": "execute_result"
    }
   ],
   "source": [
    "#check the current shape\n",
    "\n",
    "df.shape"
   ]
  },
  {
   "cell_type": "markdown",
   "metadata": {
    "id": "ooCl51L2pzTo"
   },
   "source": [
    "**Evaluate**"
   ]
  },
  {
   "cell_type": "code",
   "execution_count": 17,
   "metadata": {
    "colab": {
     "base_uri": "https://localhost:8080/"
    },
    "id": "6yLsgbMAopNF",
    "outputId": "51f1cd03-7fd6-4ae0-c217-c54c8003ec21"
   },
   "outputs": [
    {
     "data": {
      "text/plain": [
       "0       1995\n",
       "1       1995\n",
       "2       1995\n",
       "3       1995\n",
       "4       1995\n",
       "        ... \n",
       "1110    2021\n",
       "1111    2021\n",
       "1112    2021\n",
       "1113    2021\n",
       "1114    2021\n",
       "Name: year, Length: 1115, dtype: int64"
      ]
     },
     "execution_count": 17,
     "metadata": {},
     "output_type": "execute_result"
    }
   ],
   "source": [
    "# what is spread of data in years\n",
    "\n",
    "df.year\n"
   ]
  },
  {
   "cell_type": "code",
   "execution_count": 18,
   "metadata": {
    "colab": {
     "base_uri": "https://localhost:8080/"
    },
    "id": "rqFRFQ-QqAie",
    "outputId": "19110192-78d7-474e-b8dc-feaad01fc417"
   },
   "outputs": [
    {
     "data": {
      "text/plain": [
       "26"
      ]
     },
     "execution_count": 18,
     "metadata": {},
     "output_type": "execute_result"
    }
   ],
   "source": [
    "2021-1995"
   ]
  },
  {
   "cell_type": "markdown",
   "metadata": {
    "id": "6anKsEHbqKvm"
   },
   "source": [
    "it shows i have data of us honey production of 26 years"
   ]
  },
  {
   "cell_type": "code",
   "execution_count": 19,
   "metadata": {
    "colab": {
     "base_uri": "https://localhost:8080/"
    },
    "id": "mgcr4JiyqImd",
    "outputId": "f94be114-471e-4784-90b6-e59308c8cd45"
   },
   "outputs": [
    {
     "data": {
      "text/plain": [
       "44"
      ]
     },
     "execution_count": 19,
     "metadata": {},
     "output_type": "execute_result"
    }
   ],
   "source": [
    "#the number of states present in dataset\n",
    "df['state'].nunique()"
   ]
  },
  {
   "cell_type": "markdown",
   "metadata": {
    "id": "T-28Am1PqdqN"
   },
   "source": [
    "there are 44 unique states whose data is present, spead over 26 years"
   ]
  },
  {
   "cell_type": "code",
   "execution_count": 20,
   "metadata": {
    "colab": {
     "base_uri": "https://localhost:8080/"
    },
    "id": "TZIT9YT1qbbB",
    "outputId": "a383d4b8-bb6e-494b-8c4c-b311e602b369"
   },
   "outputs": [
    {
     "data": {
      "text/plain": [
       "array(['Alabama', 'Arizona', 'Arkansas', 'California', 'Colorado',\n",
       "       'Florida', 'Georgia', 'Hawaii', 'Idaho', 'Illinois', 'Indiana',\n",
       "       'Iowa', 'Kansas', 'Kentucky', 'Louisiana', 'Maine', 'Maryland',\n",
       "       'Michigan', 'Minnesota', 'Mississippi', 'Missouri', 'Montana',\n",
       "       'Nebraska', 'Nevada', 'NewJersey', 'NewMexico', 'NewYork',\n",
       "       'NorthCarolina', 'NorthDakota', 'Ohio', 'Oklahoma', 'Oregon',\n",
       "       'Pennsylvania', 'SouthCarolina', 'SouthDakota', 'Tennessee',\n",
       "       'Texas', 'Utah', 'Vermont', 'Virginia', 'Washington',\n",
       "       'WestVirginia', 'Wisconsin', 'Wyoming'], dtype=object)"
      ]
     },
     "execution_count": 20,
     "metadata": {},
     "output_type": "execute_result"
    }
   ],
   "source": [
    "df['state'].unique()"
   ]
  },
  {
   "cell_type": "code",
   "execution_count": 21,
   "metadata": {
    "id": "fHnKCnGnqri9"
   },
   "outputs": [],
   "source": [
    "#sorting my whole dataset based on production values\n",
    "df2= df.sort_values('production')"
   ]
  },
  {
   "cell_type": "code",
   "execution_count": 22,
   "metadata": {
    "colab": {
     "base_uri": "https://localhost:8080/",
     "height": 443
    },
    "id": "9oLXCxcrrbZL",
    "outputId": "6d641fea-0b28-46b5-d8c6-5a4310db4f70"
   },
   "outputs": [
    {
     "data": {
      "text/html": [
       "<div>\n",
       "<style scoped>\n",
       "    .dataframe tbody tr th:only-of-type {\n",
       "        vertical-align: middle;\n",
       "    }\n",
       "\n",
       "    .dataframe tbody tr th {\n",
       "        vertical-align: top;\n",
       "    }\n",
       "\n",
       "    .dataframe thead th {\n",
       "        text-align: right;\n",
       "    }\n",
       "</style>\n",
       "<table border=\"1\" class=\"dataframe\">\n",
       "  <thead>\n",
       "    <tr style=\"text-align: right;\">\n",
       "      <th></th>\n",
       "      <th>state</th>\n",
       "      <th>colonies_number</th>\n",
       "      <th>yield_per_colony</th>\n",
       "      <th>production</th>\n",
       "      <th>stocks</th>\n",
       "      <th>average_price</th>\n",
       "      <th>value_of_production</th>\n",
       "      <th>year</th>\n",
       "    </tr>\n",
       "  </thead>\n",
       "  <tbody>\n",
       "    <tr>\n",
       "      <th>689</th>\n",
       "      <td>Kentucky</td>\n",
       "      <td>4000</td>\n",
       "      <td>39</td>\n",
       "      <td>12000</td>\n",
       "      <td>12000</td>\n",
       "      <td>317.00</td>\n",
       "      <td>495000</td>\n",
       "      <td>2011</td>\n",
       "    </tr>\n",
       "    <tr>\n",
       "      <th>835</th>\n",
       "      <td>Alabama</td>\n",
       "      <td>7000</td>\n",
       "      <td>47</td>\n",
       "      <td>13000</td>\n",
       "      <td>13000</td>\n",
       "      <td>383.00</td>\n",
       "      <td>1260000</td>\n",
       "      <td>2015</td>\n",
       "    </tr>\n",
       "    <tr>\n",
       "      <th>955</th>\n",
       "      <td>Alabama</td>\n",
       "      <td>6000</td>\n",
       "      <td>45</td>\n",
       "      <td>14000</td>\n",
       "      <td>14000</td>\n",
       "      <td>3.72</td>\n",
       "      <td>1004000</td>\n",
       "      <td>2018</td>\n",
       "    </tr>\n",
       "    <tr>\n",
       "      <th>984</th>\n",
       "      <td>SouthCarolina</td>\n",
       "      <td>16000</td>\n",
       "      <td>48</td>\n",
       "      <td>15000</td>\n",
       "      <td>15000</td>\n",
       "      <td>3.17</td>\n",
       "      <td>2435000</td>\n",
       "      <td>2018</td>\n",
       "    </tr>\n",
       "    <tr>\n",
       "      <th>691</th>\n",
       "      <td>Maine</td>\n",
       "      <td>4000</td>\n",
       "      <td>30</td>\n",
       "      <td>17000</td>\n",
       "      <td>17000</td>\n",
       "      <td>198.00</td>\n",
       "      <td>238000</td>\n",
       "      <td>2011</td>\n",
       "    </tr>\n",
       "    <tr>\n",
       "      <th>...</th>\n",
       "      <td>...</td>\n",
       "      <td>...</td>\n",
       "      <td>...</td>\n",
       "      <td>...</td>\n",
       "      <td>...</td>\n",
       "      <td>...</td>\n",
       "      <td>...</td>\n",
       "      <td>...</td>\n",
       "    </tr>\n",
       "    <tr>\n",
       "      <th>458</th>\n",
       "      <td>NorthDakota</td>\n",
       "      <td>370000</td>\n",
       "      <td>91</td>\n",
       "      <td>33670000</td>\n",
       "      <td>8418000</td>\n",
       "      <td>81.00</td>\n",
       "      <td>27273000</td>\n",
       "      <td>2005</td>\n",
       "    </tr>\n",
       "    <tr>\n",
       "      <th>622</th>\n",
       "      <td>NorthDakota</td>\n",
       "      <td>450000</td>\n",
       "      <td>77</td>\n",
       "      <td>34650000</td>\n",
       "      <td>7623000</td>\n",
       "      <td>137.00</td>\n",
       "      <td>47471000</td>\n",
       "      <td>2009</td>\n",
       "    </tr>\n",
       "    <tr>\n",
       "      <th>581</th>\n",
       "      <td>NorthDakota</td>\n",
       "      <td>390000</td>\n",
       "      <td>90</td>\n",
       "      <td>35100000</td>\n",
       "      <td>8424000</td>\n",
       "      <td>135.00</td>\n",
       "      <td>47385000</td>\n",
       "      <td>2008</td>\n",
       "    </tr>\n",
       "    <tr>\n",
       "      <th>134</th>\n",
       "      <td>California</td>\n",
       "      <td>450000</td>\n",
       "      <td>83</td>\n",
       "      <td>37350000</td>\n",
       "      <td>12326000</td>\n",
       "      <td>62.00</td>\n",
       "      <td>23157000</td>\n",
       "      <td>1998</td>\n",
       "    </tr>\n",
       "    <tr>\n",
       "      <th>3</th>\n",
       "      <td>California</td>\n",
       "      <td>420000</td>\n",
       "      <td>93</td>\n",
       "      <td>39060000</td>\n",
       "      <td>4687000</td>\n",
       "      <td>60.00</td>\n",
       "      <td>23436000</td>\n",
       "      <td>1995</td>\n",
       "    </tr>\n",
       "  </tbody>\n",
       "</table>\n",
       "<p>1115 rows × 8 columns</p>\n",
       "</div>"
      ],
      "text/plain": [
       "             state  colonies_number  yield_per_colony  production    stocks  \\\n",
       "689       Kentucky             4000                39       12000     12000   \n",
       "835        Alabama             7000                47       13000     13000   \n",
       "955        Alabama             6000                45       14000     14000   \n",
       "984  SouthCarolina            16000                48       15000     15000   \n",
       "691          Maine             4000                30       17000     17000   \n",
       "..             ...              ...               ...         ...       ...   \n",
       "458    NorthDakota           370000                91    33670000   8418000   \n",
       "622    NorthDakota           450000                77    34650000   7623000   \n",
       "581    NorthDakota           390000                90    35100000   8424000   \n",
       "134     California           450000                83    37350000  12326000   \n",
       "3       California           420000                93    39060000   4687000   \n",
       "\n",
       "     average_price  value_of_production  year  \n",
       "689         317.00               495000  2011  \n",
       "835         383.00              1260000  2015  \n",
       "955           3.72              1004000  2018  \n",
       "984           3.17              2435000  2018  \n",
       "691         198.00               238000  2011  \n",
       "..             ...                  ...   ...  \n",
       "458          81.00             27273000  2005  \n",
       "622         137.00             47471000  2009  \n",
       "581         135.00             47385000  2008  \n",
       "134          62.00             23157000  1998  \n",
       "3            60.00             23436000  1995  \n",
       "\n",
       "[1115 rows x 8 columns]"
      ]
     },
     "execution_count": 22,
     "metadata": {},
     "output_type": "execute_result"
    }
   ],
   "source": [
    "#new datset\n",
    "df2"
   ]
  },
  {
   "cell_type": "code",
   "execution_count": 23,
   "metadata": {
    "colab": {
     "base_uri": "https://localhost:8080/"
    },
    "id": "G6W_v5_Yri58",
    "outputId": "326876b3-2589-4815-c4ef-1fbc9d0d5e2e"
   },
   "outputs": [
    {
     "data": {
      "text/plain": [
       "39060000"
      ]
     },
     "execution_count": 23,
     "metadata": {},
     "output_type": "execute_result"
    }
   ],
   "source": [
    "df2['production'].max()"
   ]
  },
  {
   "cell_type": "code",
   "execution_count": 24,
   "metadata": {
    "colab": {
     "base_uri": "https://localhost:8080/"
    },
    "id": "50UBXRkar0Br",
    "outputId": "fc324cdf-b55e-4f34-c003-d72c1cc84fa7"
   },
   "outputs": [
    {
     "data": {
      "text/plain": [
       "12000"
      ]
     },
     "execution_count": 24,
     "metadata": {},
     "output_type": "execute_result"
    }
   ],
   "source": [
    "df2['production'].min()"
   ]
  },
  {
   "cell_type": "markdown",
   "metadata": {
    "id": "N66yoFo_0sLX"
   },
   "source": [
    "**Year vs Production mean**"
   ]
  },
  {
   "cell_type": "code",
   "execution_count": 25,
   "metadata": {
    "colab": {
     "base_uri": "https://localhost:8080/",
     "height": 293
    },
    "id": "5FD2JFMYr2sN",
    "outputId": "fc8fab4e-0c02-4dbf-c320-c1ef639cb3b2"
   },
   "outputs": [
    {
     "name": "stderr",
     "output_type": "stream",
     "text": [
      "C:\\Users\\niraj\\AppData\\Local\\Temp\\ipykernel_8692\\3223612411.py:3: FutureWarning: The default value of numeric_only in DataFrameGroupBy.mean is deprecated. In a future version, numeric_only will default to False. Either specify numeric_only or select only columns which should be valid for the function.\n",
      "  df3 = df.groupby('year').mean()\n"
     ]
    },
    {
     "data": {
      "text/html": [
       "<div>\n",
       "<style scoped>\n",
       "    .dataframe tbody tr th:only-of-type {\n",
       "        vertical-align: middle;\n",
       "    }\n",
       "\n",
       "    .dataframe tbody tr th {\n",
       "        vertical-align: top;\n",
       "    }\n",
       "\n",
       "    .dataframe thead th {\n",
       "        text-align: right;\n",
       "    }\n",
       "</style>\n",
       "<table border=\"1\" class=\"dataframe\">\n",
       "  <thead>\n",
       "    <tr style=\"text-align: right;\">\n",
       "      <th></th>\n",
       "      <th>colonies_number</th>\n",
       "      <th>yield_per_colony</th>\n",
       "      <th>production</th>\n",
       "      <th>stocks</th>\n",
       "      <th>average_price</th>\n",
       "      <th>value_of_production</th>\n",
       "    </tr>\n",
       "    <tr>\n",
       "      <th>year</th>\n",
       "      <th></th>\n",
       "      <th></th>\n",
       "      <th></th>\n",
       "      <th></th>\n",
       "      <th></th>\n",
       "      <th></th>\n",
       "    </tr>\n",
       "  </thead>\n",
       "  <tbody>\n",
       "    <tr>\n",
       "      <th>1995</th>\n",
       "      <td>59977.272727</td>\n",
       "      <td>66.909091</td>\n",
       "      <td>4.778909e+06</td>\n",
       "      <td>9.575000e+05</td>\n",
       "      <td>74.840909</td>\n",
       "      <td>3.121000e+06</td>\n",
       "    </tr>\n",
       "    <tr>\n",
       "      <th>1996</th>\n",
       "      <td>58181.818182</td>\n",
       "      <td>70.068182</td>\n",
       "      <td>4.499886e+06</td>\n",
       "      <td>1.066455e+06</td>\n",
       "      <td>99.568182</td>\n",
       "      <td>4.085773e+06</td>\n",
       "    </tr>\n",
       "    <tr>\n",
       "      <th>1997</th>\n",
       "      <td>59651.162791</td>\n",
       "      <td>68.953488</td>\n",
       "      <td>4.445953e+06</td>\n",
       "      <td>1.601256e+06</td>\n",
       "      <td>91.325581</td>\n",
       "      <td>3.386000e+06</td>\n",
       "    </tr>\n",
       "    <tr>\n",
       "      <th>1998</th>\n",
       "      <td>60883.720930</td>\n",
       "      <td>69.953488</td>\n",
       "      <td>5.100488e+06</td>\n",
       "      <td>1.871488e+06</td>\n",
       "      <td>83.720930</td>\n",
       "      <td>3.395302e+06</td>\n",
       "    </tr>\n",
       "    <tr>\n",
       "      <th>1999</th>\n",
       "      <td>62186.046512</td>\n",
       "      <td>65.465116</td>\n",
       "      <td>4.757791e+06</td>\n",
       "      <td>1.839698e+06</td>\n",
       "      <td>80.325581</td>\n",
       "      <td>2.888070e+06</td>\n",
       "    </tr>\n",
       "  </tbody>\n",
       "</table>\n",
       "</div>"
      ],
      "text/plain": [
       "      colonies_number  yield_per_colony    production        stocks  \\\n",
       "year                                                                  \n",
       "1995     59977.272727         66.909091  4.778909e+06  9.575000e+05   \n",
       "1996     58181.818182         70.068182  4.499886e+06  1.066455e+06   \n",
       "1997     59651.162791         68.953488  4.445953e+06  1.601256e+06   \n",
       "1998     60883.720930         69.953488  5.100488e+06  1.871488e+06   \n",
       "1999     62186.046512         65.465116  4.757791e+06  1.839698e+06   \n",
       "\n",
       "      average_price  value_of_production  \n",
       "year                                      \n",
       "1995      74.840909         3.121000e+06  \n",
       "1996      99.568182         4.085773e+06  \n",
       "1997      91.325581         3.386000e+06  \n",
       "1998      83.720930         3.395302e+06  \n",
       "1999      80.325581         2.888070e+06  "
      ]
     },
     "execution_count": 25,
     "metadata": {},
     "output_type": "execute_result"
    }
   ],
   "source": [
    "# group years based on all column mean\n",
    "\n",
    "df3 = df.groupby('year').mean()\n",
    "df3.head()\n",
    "\n",
    "#if not able to perform groupby:\n",
    "# numericcols= df.select_dtypes(include=['int','float'])\n",
    "# df3 = numericcols.groupby('year').mean()\n",
    "# df3.head()"
   ]
  },
  {
   "cell_type": "code",
   "execution_count": 26,
   "metadata": {
    "colab": {
     "base_uri": "https://localhost:8080/"
    },
    "id": "tHvdfCRTvx5K",
    "outputId": "10b00eae-fa29-4903-f82f-4258c2d9ad7f"
   },
   "outputs": [
    {
     "data": {
      "text/plain": [
       "Index(['colonies_number', 'yield_per_colony', 'production', 'stocks',\n",
       "       'average_price', 'value_of_production'],\n",
       "      dtype='object')"
      ]
     },
     "execution_count": 26,
     "metadata": {},
     "output_type": "execute_result"
    }
   ],
   "source": [
    "#shows year is not a column, it is not index of your data\n",
    "df3.columns"
   ]
  },
  {
   "cell_type": "code",
   "execution_count": 27,
   "metadata": {
    "id": "Hw4luzTJv4Ya"
   },
   "outputs": [],
   "source": [
    "#change year to a column\n",
    "\n",
    "df3=df3.reset_index()"
   ]
  },
  {
   "cell_type": "code",
   "execution_count": 36,
   "metadata": {
    "colab": {
     "base_uri": "https://localhost:8080/",
     "height": 509
    },
    "id": "Zi82K-lFtZ12",
    "outputId": "8065d6b2-f76b-4951-f749-f7d5130da315"
   },
   "outputs": [
    {
     "data": {
      "image/png": "[encoded data removed]",
      "text/plain": [
       "<Figure size 1000x500 with 1 Axes>"
      ]
     },
     "metadata": {},
     "output_type": "display_data"
    }
   ],
   "source": [
    "plt.figure(figsize=(10,5))\n",
    "sns.barplot(x=df3['year'] ,y= df3['production'],color='orange')\n",
    "plt.title('Year vs Production Mean')\n",
    "plt.xlabel('Year')\n",
    "plt.ylabel('Production')\n",
    "plt.xticks(rotation=90)\n",
    "plt.show()"
   ]
  },
  {
   "cell_type": "markdown",
   "metadata": {
    "id": "vz766thz0EQs"
   },
   "source": [
    "**Inferences**\n",
    "\n",
    "production was high in 1995-2009, but ever since 2010 started, production has been minimal"
   ]
  },
  {
   "cell_type": "markdown",
   "metadata": {
    "id": "23B603Nu0wj5"
   },
   "source": [
    "**State vs Production**"
   ]
  },
  {
   "cell_type": "code",
   "execution_count": 37,
   "metadata": {
    "colab": {
     "base_uri": "https://localhost:8080/",
     "height": 237
    },
    "id": "w4_ytFDz0z2N",
    "outputId": "b7cb3d8a-5a8c-4e89-a025-557ff1d5a81d"
   },
   "outputs": [
    {
     "data": {
      "text/html": [
       "<div>\n",
       "<style scoped>\n",
       "    .dataframe tbody tr th:only-of-type {\n",
       "        vertical-align: middle;\n",
       "    }\n",
       "\n",
       "    .dataframe tbody tr th {\n",
       "        vertical-align: top;\n",
       "    }\n",
       "\n",
       "    .dataframe thead th {\n",
       "        text-align: right;\n",
       "    }\n",
       "</style>\n",
       "<table border=\"1\" class=\"dataframe\">\n",
       "  <thead>\n",
       "    <tr style=\"text-align: right;\">\n",
       "      <th></th>\n",
       "      <th>colonies_number</th>\n",
       "      <th>yield_per_colony</th>\n",
       "      <th>production</th>\n",
       "      <th>stocks</th>\n",
       "      <th>average_price</th>\n",
       "      <th>value_of_production</th>\n",
       "      <th>year</th>\n",
       "    </tr>\n",
       "    <tr>\n",
       "      <th>state</th>\n",
       "      <th></th>\n",
       "      <th></th>\n",
       "      <th></th>\n",
       "      <th></th>\n",
       "      <th></th>\n",
       "      <th></th>\n",
       "      <th></th>\n",
       "    </tr>\n",
       "  </thead>\n",
       "  <tbody>\n",
       "    <tr>\n",
       "      <th>Alabama</th>\n",
       "      <td>17000</td>\n",
       "      <td>87</td>\n",
       "      <td>1248000</td>\n",
       "      <td>282000</td>\n",
       "      <td>383.0</td>\n",
       "      <td>1917000</td>\n",
       "      <td>2021</td>\n",
       "    </tr>\n",
       "    <tr>\n",
       "      <th>Arizona</th>\n",
       "      <td>55000</td>\n",
       "      <td>80</td>\n",
       "      <td>4108000</td>\n",
       "      <td>1548000</td>\n",
       "      <td>203.0</td>\n",
       "      <td>3974000</td>\n",
       "      <td>2021</td>\n",
       "    </tr>\n",
       "    <tr>\n",
       "      <th>Arkansas</th>\n",
       "      <td>58000</td>\n",
       "      <td>98</td>\n",
       "      <td>5655000</td>\n",
       "      <td>3529000</td>\n",
       "      <td>206.0</td>\n",
       "      <td>6002000</td>\n",
       "      <td>2021</td>\n",
       "    </tr>\n",
       "    <tr>\n",
       "      <th>California</th>\n",
       "      <td>505000</td>\n",
       "      <td>93</td>\n",
       "      <td>39060000</td>\n",
       "      <td>12326000</td>\n",
       "      <td>216.0</td>\n",
       "      <td>45667000</td>\n",
       "      <td>2021</td>\n",
       "    </tr>\n",
       "    <tr>\n",
       "      <th>Colorado</th>\n",
       "      <td>45000</td>\n",
       "      <td>86</td>\n",
       "      <td>2700000</td>\n",
       "      <td>1594000</td>\n",
       "      <td>226.0</td>\n",
       "      <td>3753000</td>\n",
       "      <td>2021</td>\n",
       "    </tr>\n",
       "  </tbody>\n",
       "</table>\n",
       "</div>"
      ],
      "text/plain": [
       "            colonies_number  yield_per_colony  production    stocks  \\\n",
       "state                                                                 \n",
       "Alabama               17000                87     1248000    282000   \n",
       "Arizona               55000                80     4108000   1548000   \n",
       "Arkansas              58000                98     5655000   3529000   \n",
       "California           505000                93    39060000  12326000   \n",
       "Colorado              45000                86     2700000   1594000   \n",
       "\n",
       "            average_price  value_of_production  year  \n",
       "state                                                 \n",
       "Alabama             383.0              1917000  2021  \n",
       "Arizona             203.0              3974000  2021  \n",
       "Arkansas            206.0              6002000  2021  \n",
       "California          216.0             45667000  2021  \n",
       "Colorado            226.0              3753000  2021  "
      ]
     },
     "execution_count": 37,
     "metadata": {},
     "output_type": "execute_result"
    }
   ],
   "source": [
    "df4 = df.groupby('state').max()\n",
    "df4.head()"
   ]
  },
  {
   "cell_type": "code",
   "execution_count": 38,
   "metadata": {
    "id": "XuPIJklG0874"
   },
   "outputs": [],
   "source": [
    "df4=df4.reset_index()"
   ]
  },
  {
   "cell_type": "code",
   "execution_count": 39,
   "metadata": {
    "colab": {
     "base_uri": "https://localhost:8080/",
     "height": 900
    },
    "id": "IqH9fudP1BAw",
    "outputId": "e3234e67-a574-485a-d3e8-342c6fe77899"
   },
   "outputs": [
    {
     "data": {
      "image/png": "[encoded data removed]",
      "text/plain": [
       "<Figure size 1000x1000 with 1 Axes>"
      ]
     },
     "metadata": {},
     "output_type": "display_data"
    }
   ],
   "source": [
    "plt.figure(figsize=(10,10))\n",
    "sns.barplot(y=df4['state'] ,x= df4['production'],color='orange')\n",
    "plt.title('State vs Production Max')\n",
    "plt.xlabel('State')\n",
    "plt.ylabel('Production')\n",
    "plt.xticks(rotation=90)\n",
    "plt.show()"
   ]
  },
  {
   "cell_type": "markdown",
   "metadata": {
    "id": "-qksJbJz2DjV"
   },
   "source": [
    "**Inferneces**\n",
    "\n",
    "NorthDakota has highest mean production\n",
    "\n",
    "California is having max production in one occurence"
   ]
  },
  {
   "cell_type": "code",
   "execution_count": 32,
   "metadata": {
    "colab": {
     "base_uri": "https://localhost:8080/",
     "height": 80
    },
    "id": "9Gy0EefD1qvc",
    "outputId": "0aaa60b8-4a0c-4d08-f8ea-dbc4ea5a0649"
   },
   "outputs": [
    {
     "data": {
      "text/html": [
       "<div>\n",
       "<style scoped>\n",
       "    .dataframe tbody tr th:only-of-type {\n",
       "        vertical-align: middle;\n",
       "    }\n",
       "\n",
       "    .dataframe tbody tr th {\n",
       "        vertical-align: top;\n",
       "    }\n",
       "\n",
       "    .dataframe thead th {\n",
       "        text-align: right;\n",
       "    }\n",
       "</style>\n",
       "<table border=\"1\" class=\"dataframe\">\n",
       "  <thead>\n",
       "    <tr style=\"text-align: right;\">\n",
       "      <th></th>\n",
       "      <th>state</th>\n",
       "      <th>colonies_number</th>\n",
       "      <th>yield_per_colony</th>\n",
       "      <th>production</th>\n",
       "      <th>stocks</th>\n",
       "      <th>average_price</th>\n",
       "      <th>value_of_production</th>\n",
       "      <th>year</th>\n",
       "    </tr>\n",
       "  </thead>\n",
       "  <tbody>\n",
       "    <tr>\n",
       "      <th>3</th>\n",
       "      <td>California</td>\n",
       "      <td>420000</td>\n",
       "      <td>93</td>\n",
       "      <td>39060000</td>\n",
       "      <td>4687000</td>\n",
       "      <td>60.0</td>\n",
       "      <td>23436000</td>\n",
       "      <td>1995</td>\n",
       "    </tr>\n",
       "  </tbody>\n",
       "</table>\n",
       "</div>"
      ],
      "text/plain": [
       "        state  colonies_number  yield_per_colony  production   stocks  \\\n",
       "3  California           420000                93    39060000  4687000   \n",
       "\n",
       "   average_price  value_of_production  year  \n",
       "3           60.0             23436000  1995  "
      ]
     },
     "execution_count": 32,
     "metadata": {},
     "output_type": "execute_result"
    }
   ],
   "source": [
    "#in which year is the maximum production(display whole row)\n",
    "\n",
    "df[df['production']==df['production'].max()]"
   ]
  },
  {
   "cell_type": "code",
   "execution_count": 33,
   "metadata": {
    "colab": {
     "base_uri": "https://localhost:8080/"
    },
    "id": "npbv_D5r2uju",
    "outputId": "2033c7d2-daec-48c3-fa39-0926181f35ee"
   },
   "outputs": [
    {
     "data": {
      "text/plain": [
       "3    1995\n",
       "Name: year, dtype: int64"
      ]
     },
     "execution_count": 33,
     "metadata": {},
     "output_type": "execute_result"
    }
   ],
   "source": [
    "#in which year is the maximum production (only display year)\n",
    "\n",
    "df['year'][df['production']==df['production'].max()]"
   ]
  },
  {
   "cell_type": "markdown",
   "metadata": {
    "id": "hgHvpo383gbC"
   },
   "source": [
    "**Trend analysis**"
   ]
  },
  {
   "cell_type": "code",
   "execution_count": 34,
   "metadata": {
    "colab": {
     "base_uri": "https://localhost:8080/",
     "height": 582
    },
    "id": "415E3mQ222OK",
    "outputId": "1441af45-73c4-4d42-bd97-c9c52bebf79e"
   },
   "outputs": [
    {
     "name": "stderr",
     "output_type": "stream",
     "text": [
      "C:\\Users\\niraj\\AppData\\Local\\Temp\\ipykernel_8692\\1594082451.py:3: FutureWarning: \n",
      "\n",
      "The `ci` parameter is deprecated. Use `errorbar=None` for the same effect.\n",
      "\n",
      "  sns.pointplot(x=df['year'],y=df['production'],ci=None)\n"
     ]
    },
    {
     "data": {
      "image/png": "[encoded data removed]",
      "text/plain": [
       "<Figure size 640x480 with 1 Axes>"
      ]
     },
     "metadata": {},
     "output_type": "display_data"
    }
   ],
   "source": [
    "#trend of production in year\n",
    "\n",
    "sns.pointplot(x=df['year'],y=df['production'],ci=None)\n",
    "plt.title('trend of production over the years')\n",
    "plt.xlabel('Year')\n",
    "plt.ylabel('Production')\n",
    "plt.xticks(rotation=90)\n",
    "plt.show()"
   ]
  },
  {
   "cell_type": "code",
   "execution_count": 35,
   "metadata": {
    "colab": {
     "base_uri": "https://localhost:8080/",
     "height": 582
    },
    "id": "NWlerUby4DLQ",
    "outputId": "3a557825-a32a-421c-d86b-efe905e8cdda"
   },
   "outputs": [
    {
     "name": "stderr",
     "output_type": "stream",
     "text": [
      "C:\\Users\\niraj\\AppData\\Local\\Temp\\ipykernel_8692\\807224635.py:2: FutureWarning: \n",
      "\n",
      "The `ci` parameter is deprecated. Use `errorbar=None` for the same effect.\n",
      "\n",
      "  sns.pointplot(x=df['year'],y=df['colonies_number'],ci=None)\n"
     ]
    },
    {
     "data": {
      "image/png": "[encoded data removed]",
      "text/plain": [
       "<Figure size 640x480 with 1 Axes>"
      ]
     },
     "metadata": {},
     "output_type": "display_data"
    }
   ],
   "source": [
    "#how no of colonies have impacted production over year\n",
    "sns.pointplot(x=df['year'],y=df['colonies_number'],ci=None)\n",
    "plt.title('number of colonies over the years')\n",
    "plt.xlabel('Year')\n",
    "plt.ylabel('Colonies')\n",
    "plt.xticks(rotation=90)\n",
    "plt.show()"
   ]
  },
  {
   "cell_type": "markdown",
   "metadata": {
    "id": "FYIQdmjL5N05"
   },
   "source": [
    "**Inferences**\n",
    "\n",
    "1. production has decreased from 2010- 2021, its low\n",
    "\n",
    "2. number of colonies have increased from 2010\n",
    "\n",
    "**the increase in number of colnies is not impacting much in honey production of US**"
   ]
  }
 ],
 "metadata": {
  "colab": {
   "provenance": []
  },
  "kernelspec": {
   "display_name": "Python 3 (ipykernel)",
   "language": "python",
   "name": "python3"
  },
  "language_info": {
   "codemirror_mode": {
    "name": "ipython",
    "version": 3
   },
   "file_extension": ".py",
   "mimetype": "text/x-python",
   "name": "python",
   "nbconvert_exporter": "python",
   "pygments_lexer": "ipython3",
   "version": "3.10.9"
  }
 },
 "nbformat": 4,
 "nbformat_minor": 1
}
